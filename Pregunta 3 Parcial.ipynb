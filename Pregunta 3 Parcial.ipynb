{
 "cells": [
  {
   "cell_type": "markdown",
   "id": "4c2f9251-4a5a-4767-8cfa-5ae203e2b4d1",
   "metadata": {
    "id": "NUpwUcSk2jHk"
   },
   "source": [
    "<img width=\"600px\" src=\"https://www.urp.edu.pe/img/thumbnails/wm/745/hm/243/we/745/he/243/x/0/y/0/s/0/q/60/zc/3/f/0/rgb/000000/src/28042/n/picture3.png\"></img>\n",
    "# <font color='Darkorange'>Unidad de Posgrado - Maestría en Ciencia de los datos</font></span>\n",
    "## <font color='Steelblue'> Matemática Aplicada a la Ciencia de Datos - Prof: Mg. Carlos Deudor Gomez </font></span>\n",
    "## Alumno: **Jaramillo - Rojas - Leandra Marcela**\n",
    "---\n",
    "----"
   ]
  },
  {
   "cell_type": "markdown",
   "id": "f711b174-68c6-4ced-9405-433a3741eb9b",
   "metadata": {},
   "source": [
    "**3. Ejercicio:**\n",
    "\n",
    "Encuentre los valores que toma $T_{i}$ para los diferentes valores de ${i}$"
   ]
  },
  {
   "cell_type": "markdown",
   "id": "45113879-9729-487e-93b4-ac0a8869b492",
   "metadata": {
    "tags": []
   },
   "source": [
    "<div style=\"text-align: center;\">\n",
    "    <img src=\"Imagen2.png\" alt=\"Logo personal\" style=\"width:50%;\">\n",
    "</div>"
   ]
  },
  {
   "cell_type": "markdown",
   "id": "df9c6fdf-10a6-4bae-a4c1-949ad3142d63",
   "metadata": {},
   "source": [
    "**Respuesta:**"
   ]
  },
  {
   "cell_type": "markdown",
   "id": "731e03f1-598a-44aa-96e6-9e715e5f9d62",
   "metadata": {},
   "source": [
    "Para resolver el ejercio, apliqué el **Principio de Equilibrio Térmico**, basado en la **Ley de Fourier**, que establece que en una malla bidimensional que modela la transferencia de calor en una placa, la temperatura de un nodo puede calcularse como el promedio de las temperaturas de sus cuatro nodos vecinos inmediatos: los ubicados a la izquierda, derecha, arriba y abajo."
   ]
  },
  {
   "cell_type": "markdown",
   "id": "3bd6bda4-b3c4-4f35-b02d-6e6726411629",
   "metadata": {},
   "source": [
    "* **Paso 1: Definición del sistema de ecuaciones según la figura**"
   ]
  },
  {
   "cell_type": "markdown",
   "id": "7e975bd5-0403-4708-a3ed-9db76a5f971d",
   "metadata": {},
   "source": [
    "\\begin{equation}\n",
    "T_1 = \\frac{100 + T_5 + T_2 + 50}{4}\n",
    "\\end{equation}\n",
    "\n",
    "\\begin{equation}\n",
    "T_2 = \\frac{40 + T_6 + T_3 + T_1}{4}\n",
    "\\end{equation}\n",
    "\n",
    "\\begin{equation}\n",
    "T_3 = \\frac{60 + T_4 + T_7 + T_2}{4}\n",
    "\\end{equation}\n",
    "\n",
    "\\begin{equation}\n",
    "T_4 = \\frac{100 + 50 + T_8 + T_3}{4}\n",
    "\\end{equation}\n",
    "\n",
    "\\begin{equation}\n",
    "T_5 = \\frac{T_1 + 0 + T_6 + 50}{4}\n",
    "\\end{equation}\n",
    "\n",
    "\\begin{equation}\n",
    "T_6 = \\frac{T_2 + T_7 + 25 + T_5}{4}\n",
    "\\end{equation}\n",
    "\n",
    "\\begin{equation}\n",
    "T_7 = \\frac{T_3 + T_8 + 50 + T_6}{4}\n",
    "\\end{equation}\n",
    "\n",
    "\\begin{equation}\n",
    "T_8 = \\frac{T_4 + 0 + 50 + T_7}{4}\n",
    "\\end{equation}"
   ]
  },
  {
   "cell_type": "markdown",
   "id": "37afa292-caf4-4b62-8f46-faac37045cd2",
   "metadata": {},
   "source": [
    "* **Paso 2: Reorganización del sistema de ecuaciones**"
   ]
  },
  {
   "cell_type": "markdown",
   "id": "272ba443-8ae6-4160-a261-238ea8c4ab9c",
   "metadata": {},
   "source": [
    "\\begin{equation}\n",
    "4T_1 - T_2 = 150\n",
    "\\end{equation}\n",
    "\n",
    "\\begin{equation}\n",
    "-T_1 + 4T_2 - T_3 -T_6 = 40\n",
    "\\end{equation}\n",
    "\n",
    "\\begin{equation}\n",
    "-T_2 + 4T_3 -T_4 - T_7 = 60\n",
    "\\end{equation}\n",
    "\n",
    "\\begin{equation}\n",
    "-T_3 + 4T_4 - T_8 = 150\n",
    "\\end{equation}\n",
    "\n",
    "\\begin{equation}\n",
    "-T_1 + 4T_5 -T_6 = 50\n",
    "\\end{equation}\n",
    "\n",
    "\\begin{equation}\n",
    "-T_2 -T_5 + 4T_6 -T_7 = 25\n",
    "\\end{equation}\n",
    "\n",
    "\\begin{equation}\n",
    "-T_3 -T_6 + 4T_7 -T_8 = 50\n",
    "\\end{equation}\n",
    "\n",
    "\\begin{equation}\n",
    "-T_4 -T_7 + 4T_8 = 50\n",
    "\\end{equation}"
   ]
  },
  {
   "cell_type": "markdown",
   "id": "f710035c-21b4-490c-8d4b-8ff78997f043",
   "metadata": {},
   "source": [
    "* **Paso 3: Conversión de ecuaciones a su forma matricial**"
   ]
  },
  {
   "cell_type": "markdown",
   "id": "7b9e7c81-a1c0-4609-928f-2e618314361c",
   "metadata": {},
   "source": [
    "$$\n",
    "A  \\begin{bmatrix}\n",
    "4 & -1 & 0 & 0 & 0 & 0 & 0 & 0 \\\\\n",
    "-1 & 4 & -1 & 0 & 0 & -1 & 0 & 0 \\\\\n",
    "0 & -1 & 4 & -1 & 0 & 0 & -1 & 0 \\\\\n",
    "0 & 0 & -1 & 4 & 0 & 0 & 0 & -1 \\\\\n",
    "-1 & 0 & 0 & 0 & 4 & -1 & 0 & 0 \\\\\n",
    "0 & -1 & 0 & 0 & -1 & 4 & -1 & 0 \\\\\n",
    "0 & 0 & -1 & 0 & 0 & -1 & 4 & -1 \\\\\n",
    "0 & 0 & 0 & -1 & 0 & 0 & -1 & 4 \n",
    "\\end{bmatrix}, \\quad\n",
    "\\mathbf{X} \\begin{bmatrix}\n",
    "T_1 \\\\\n",
    "T_2 \\\\ \n",
    "T_3 \\\\ \n",
    "T_4 \\\\\n",
    "T_5 \\\\\n",
    "T_6 \\\\\n",
    "T_7 \\\\\n",
    "T_8 \n",
    "\\end{bmatrix} = \\quad\n",
    "\\mathbf{B} \\begin{bmatrix}\n",
    "150 \\\\ \n",
    "40 \\\\\n",
    "60 \\\\\n",
    "150 \\\\\n",
    "50 \\\\\n",
    "25 \\\\\n",
    "50 \\\\\n",
    "50 \n",
    "\\end{bmatrix}\n",
    "$$"
   ]
  },
  {
   "cell_type": "markdown",
   "id": "6c109c77-4101-4b12-a7e2-b51205fe5d91",
   "metadata": {},
   "source": [
    "**Paso 4: Resolviendo el sistema de ecuaciones en Python con la función [linalg.solve](https://www.askpython.com/python-modules/numpy/numpy-linalg-solve) de Numpy**"
   ]
  },
  {
   "cell_type": "code",
   "execution_count": 1,
   "id": "28541ca2-e0e4-48dc-8a37-045f46e5a9a3",
   "metadata": {
    "tags": []
   },
   "outputs": [
    {
     "name": "stdout",
     "output_type": "stream",
     "text": [
      "Las temperaturas desconocidas halladas de la figura son:\n",
      "T1 = 48.62 °C\n",
      "T2 = 44.47 °C\n",
      "T3 = 52.30 °C\n",
      "T4 = 60.25 °C\n",
      "T5 = 33.90 °C\n",
      "T6 = 36.96 °C\n",
      "T7 = 44.49 °C\n",
      "T8 = 38.68 °C\n"
     ]
    }
   ],
   "source": [
    "import numpy as np\n",
    "\n",
    "# Definir la matriz de coeficientes A y el vector de términos independientes B\n",
    "A = np.array([\n",
    "    [4, -1, 0, 0, 0, 0, 0, 0],  \n",
    "    [-1, 4, -1, 0, 0, -1, 0, 0], \n",
    "    [0, -1, 4, -1, 0, 0, -1, 0], \n",
    "    [0, 0, -1, 4, 0, 0, 0, -1],  \n",
    "    [-1, 0, 0, 0, 4, -1, 0, 0],  \n",
    "    [0, -1, 0, 0, -1, 4, -1, 0], \n",
    "    [0, 0, -1, 0, 0, -1, 4, -1], \n",
    "    [0, 0, 0, -1, 0, 0, -1, 4]\n",
    "])\n",
    "\n",
    "B = np.array([150, 40, 60, 150, 50, 25, 50, 50])  # Términos independientes\n",
    "\n",
    "# Resolver el sistema de ecuaciones lineales\n",
    "T = np.linalg.solve(A, B)\n",
    "\n",
    "# Mostrar los resultados\n",
    "print(\"Las temperaturas desconocidas halladas de la figura son:\")\n",
    "print(f\"T1 = {T[0]:.2f} °C\")\n",
    "print(f\"T2 = {T[1]:.2f} °C\")\n",
    "print(f\"T3 = {T[2]:.2f} °C\")\n",
    "print(f\"T4 = {T[3]:.2f} °C\")\n",
    "print(f\"T5 = {T[4]:.2f} °C\")\n",
    "print(f\"T6 = {T[5]:.2f} °C\")\n",
    "print(f\"T7 = {T[6]:.2f} °C\")\n",
    "print(f\"T8 = {T[7]:.2f} °C\")"
   ]
  }
 ],
 "metadata": {
  "kernelspec": {
   "display_name": "Python 3 (ipykernel)",
   "language": "python",
   "name": "python3"
  },
  "language_info": {
   "codemirror_mode": {
    "name": "ipython",
    "version": 3
   },
   "file_extension": ".py",
   "mimetype": "text/x-python",
   "name": "python",
   "nbconvert_exporter": "python",
   "pygments_lexer": "ipython3",
   "version": "3.11.5"
  }
 },
 "nbformat": 4,
 "nbformat_minor": 5
}
